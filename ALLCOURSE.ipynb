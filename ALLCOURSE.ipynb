{
 "cells": [
  {
   "cell_type": "markdown",
   "metadata": {},
   "source": [
    "## 전처리 & 모듈 로드"
   ]
  },
  {
   "cell_type": "code",
   "execution_count": 2,
   "metadata": {},
   "outputs": [
    {
     "name": "stdout",
     "output_type": "stream",
     "text": [
      "Starting Zumi \n",
      "Pi Zero I2C is available\n",
      "Verified Pi Zero is the same\n",
      "Gyroscope previously calibrated\n",
      "Zumi board detected\n",
      "OLED Screen detected\n",
      "Gyroscope & Accelerometer detected\n"
     ]
    }
   ],
   "source": [
    "from module.color_classifier import ColorClassifier\n",
    "\n",
    "from zumi.zumi import Zumi\n",
    "from zumi.util.screen import Screen\n",
    "from zumi.util.vision import Vision\n",
    "from zumi.protocol import Note\n",
    "from threading import Thread\n",
    "\n",
    "zumi = Zumi()\n",
    "screen = Screen(False)\n",
    "vision = Vision()\n",
    "\n",
    "from module.object_tracking import ObjectTracking\n",
    "\n",
    "from zumi.util.camera import Camera\n",
    "import IPython.display\n",
    "import PIL.Image\n",
    "import time\n",
    "\n",
    "camera = Camera()\n",
    "objectTracking = ObjectTracking()\n",
    "\n",
    "threshold = 100\n",
    "turnSpeed = 1\n",
    "forwardSpeed = 4"
   ]
  },
  {
   "cell_type": "markdown",
   "metadata": {},
   "source": [
    "### <font color=red>색상 학습 & 성능 확인 - 프로젝트명 : ZumiColors</font>"
   ]
  },
  {
   "cell_type": "code",
   "execution_count": 3,
   "metadata": {},
   "outputs": [
    {
     "name": "stdout",
     "output_type": "stream",
     "text": [
      "Starting PiCamera\n",
      "프로젝트의 이름은 무엇인가요? : ZumiColors\n",
      "프로젝트가 이미 존재합니다. 이 모델을 테스트 하겠습니까? (y/n) : y\n",
      "Closing PiCamera\n"
     ]
    }
   ],
   "source": [
    "camera.start_camera()\n",
    "try:\n",
    "    knn = ColorClassifier()\n",
    "    train = knn.set_values()\n",
    "    \n",
    "    if train:\n",
    "        print(\"데이터 수집을 시작하십시오. 중지하려면 'q'를 누르십시오.\")\n",
    "        cnt = int(input(\"한 번에 찍고 싶은 사진의 양을 입력하십시오. : \"))\n",
    "        while True:\n",
    "            knn.add_datas(camera, cnt)\n",
    "            if knn.check_enough_datas(balance=True):\n",
    "                break\n",
    "\n",
    "        knn.save_data_set()\n",
    "        knn.get_accuracy()\n",
    "        \n",
    "finally:\n",
    "    camera.close()"
   ]
  },
  {
   "cell_type": "code",
   "execution_count": 4,
   "metadata": {},
   "outputs": [
    {
     "name": "stdout",
     "output_type": "stream",
     "text": [
      "예측을 시작합니다. 'Enter 키'를 눌러서 시작하십시오!\n",
      "Starting PiCamera\n",
      "`Enter 키`를 누르면 예측을 시작합니다. 중지하려면 'q'를 누르십시오: \n",
      "194 153 174\n",
      "red\n",
      "`Enter 키`를 누르면 예측을 시작합니다. 중지하려면 'q'를 누르십시오: \n",
      "70 247 131\n",
      "green\n",
      "`Enter 키`를 누르면 예측을 시작합니다. 중지하려면 'q'를 누르십시오: \n",
      "35 176 147\n",
      "orange\n",
      "`Enter 키`를 누르면 예측을 시작합니다. 중지하려면 'q'를 누르십시오: \n",
      "55 214 134\n",
      "yellow\n",
      "`Enter 키`를 누르면 예측을 시작합니다. 중지하려면 'q'를 누르십시오: \n",
      "113 198 133\n",
      "blue\n",
      "`Enter 키`를 누르면 예측을 시작합니다. 중지하려면 'q'를 누르십시오: q\n",
      "Closing PiCamera\n"
     ]
    }
   ],
   "source": [
    "try:\n",
    "    print(\"예측을 시작합니다. 'Enter 키'를 눌러서 시작하십시오!\")\n",
    "    camera.start_camera()\n",
    "    knn.fit(\"hsv\")\n",
    "    while True:\n",
    "        if input(\"`Enter 키`를 누르면 예측을 시작합니다. 중지하려면 'q'를 누르십시오: \") == 'q':\n",
    "            break\n",
    "        image = camera.capture()\n",
    "        predict = knn.predict(image)\n",
    "        print(predict)\n",
    "        screen.draw_text(predict)\n",
    "finally:\n",
    "    camera.close()"
   ]
  },
  {
   "cell_type": "markdown",
   "metadata": {},
   "source": [
    "### 라인트레이서 함수 정의"
   ]
  },
  {
   "cell_type": "code",
   "execution_count": 5,
   "metadata": {},
   "outputs": [],
   "source": [
    "def LineTraceFunc() :\n",
    "    try:\n",
    "        print('Linetrace Start')\n",
    "        \n",
    "        while True:\n",
    "            bottom_right = zumi.read_IR('bottom_right')\n",
    "            bottom_left = zumi.read_IR('bottom_left')\n",
    "\n",
    "            if bottom_left > threshold and bottom_right > threshold :      \n",
    "                zumi.control_motors(forwardSpeed,forwardSpeed*4)\n",
    "        \n",
    "            elif bottom_left > threshold :\n",
    "                zumi.control_motors(turnSpeed,0)\n",
    "        \n",
    "            elif bottom_right > threshold :\n",
    "                zumi.control_motors(0, turnSpeed)\n",
    "        \n",
    "            else :\n",
    "                print('Linetrace Stop')\n",
    "                zumi.stop()\n",
    "                break\n",
    "                \n",
    "    except KeyboardInterrupt:\n",
    "        print('factitious Stop')\n",
    "        zumi.stop()"
   ]
  },
  {
   "cell_type": "markdown",
   "metadata": {},
   "source": [
    "## Course A"
   ]
  },
  {
   "cell_type": "code",
   "execution_count": 7,
   "metadata": {},
   "outputs": [
    {
     "data": {
      "image/png": "[encoded data removed]",
      "text/plain": [
       "<PIL.Image.Image image mode=RGB size=160x128 at 0xA3CCEE90>"
      ]
     },
     "metadata": {},
     "output_type": "display_data"
    },
    {
     "name": "stdout",
     "output_type": "stream",
     "text": [
      "색을 인식 후 등록하였습니다.\n",
      "54 229 142\n",
      "yellow\n",
      "Closing PiCamera\n",
      "Linetrace Start\n",
      "Linetrace Stop\n",
      "Starting PiCamera\n",
      "50 242 127\n",
      "Closing PiCamera\n",
      "Linetrace Start\n",
      "Linetrace Stop\n",
      "Linetrace Start\n",
      "Linetrace Stop\n",
      "Linetrace Start\n",
      "Linetrace Stop\n"
     ]
    }
   ],
   "source": [
    "# 출발 시 \"도 레 미\" 음성 출력\n",
    "zumi.play_note(Note.C4, 1000)\n",
    "zumi.play_note(Note.D4, 1000)\n",
    "zumi.play_note(Note.E4, 1000)\n",
    "\n",
    "zumi.control_motors(10, 40)\n",
    "time.sleep(0.5)\n",
    "zumi.stop()\n",
    "\n",
    "# 라인트레이싱\n",
    "LineTraceFunc()\n",
    "\n",
    "# 목표 주차 색상 인식 후 등록\n",
    "try:\n",
    "    camera.start_camera()\n",
    "    \n",
    "    time_out = 3 # 입력한 시간 동안 등록\n",
    "    time_start = time.time()\n",
    "    time_elapsed = 0\n",
    "    \n",
    "    print(\"원하는 주차장의 색상을 인식 후 등록합니다.\")\n",
    "    time.sleep(1)\n",
    "    \n",
    "    while time_elapsed < time_out:   \n",
    "        time_elapsed = time.time()-time_start\n",
    "                \n",
    "        frame = camera.capture()    # 사진 촬영\n",
    "        frame = objectTracking.register_color(frame)  # 중심점의 색상 확보\n",
    "                \n",
    "        IPython.display.display(PIL.Image.fromarray(frame))    \n",
    "        \n",
    "        print(\"등록 \" + str(time_out - int(time_elapsed)) + \" 초 전\")\n",
    "        IPython.display.clear_output(wait=True) \n",
    "        \n",
    "    IPython.display.display(PIL.Image.fromarray(frame))\n",
    "    print(\"색을 인식 후 등록하였습니다.\") \n",
    "    \n",
    "    pre = knn.predict(frame)\n",
    "    print(pre)\n",
    "    screen.draw_text_center(pre)\n",
    "                \n",
    "finally:\n",
    "    camera.close()\n",
    "    \n",
    "# 등록된 색상과 매치되는 장소에 주차\n",
    "zumi.control_motors(10, 40)\n",
    "time.sleep(0.3)\n",
    "zumi.stop()\n",
    "\n",
    "for i in range(3):\n",
    "    if (i % 2) == 0:\n",
    "        zumi.turn_right(90)\n",
    "    else:\n",
    "        zumi.turn_left(90)\n",
    "    \n",
    "    # 라인트레이싱\n",
    "    LineTraceFunc()\n",
    "    \n",
    "    camera.start_camera()\n",
    "    \n",
    "    frame = camera.capture()\n",
    "    frame = objectTracking.register_color(frame)\n",
    "    \n",
    "    parking_color = knn.predict(frame)\n",
    "    \n",
    "    camera.close()\n",
    "    \n",
    "    # 등록된 색상의 주차 장소에 도착했을 시 1초 딜레이\n",
    "    if pre == parking_color:\n",
    "        zumi.stop()\n",
    "        time.sleep(1)\n",
    "    \n",
    "    zumi.turn_right(desired_angle=180, duration=1)\n",
    "    \n",
    "    # 라인트레이싱\n",
    "    LineTraceFunc()\n",
    "    \n",
    "    if (i % 2) == 0:\n",
    "        zumi.turn_right(90)\n",
    "    else:\n",
    "        zumi.turn_left(90)\n",
    "    \n",
    "    zumi.control_motors(10, 40)\n",
    "    time.sleep(0.3)\n",
    "    zumi.stop()\n",
    "    \n",
    "    # 라인트레이싱\n",
    "    LineTraceFunc()    \n",
    "    \n",
    "    if pre == parking_color:\n",
    "        break\n",
    "\n",
    "zumi.control_motors(10, 40)\n",
    "time.sleep(0.5)\n",
    "zumi.stop() \n",
    "\n",
    "# 라인트레이싱\n",
    "LineTraceFunc()"
   ]
  },
  {
   "cell_type": "markdown",
   "metadata": {},
   "source": [
    "## Course B"
   ]
  },
  {
   "cell_type": "code",
   "execution_count": 8,
   "metadata": {},
   "outputs": [
    {
     "name": "stdout",
     "output_type": "stream",
     "text": [
      "Starting PiCamera\n",
      "146 250 194\n",
      "21 111 136\n",
      "195 190 200\n",
      "Closing PiCamera\n",
      "Linetrace Start\n",
      "Linetrace Stop\n",
      "Starting PiCamera\n",
      "197 219 157\n",
      "28 37 104\n",
      "70 41 75\n",
      "56 194 33\n",
      "61 254 143\n",
      "Closing PiCamera\n",
      "Linetrace Start\n",
      "Linetrace Stop\n"
     ]
    }
   ],
   "source": [
    "# 빨간색을 입력 시 정차 / 빨간색이 없을 시 주행 재개\n",
    "try:\n",
    "    camera.start_camera()\n",
    "    knn.fit(\"hsv\")\n",
    "    \n",
    "    while True:\n",
    "        front_right = zumi.get_all_IR_data()[0]\n",
    "        front_left = zumi.get_all_IR_data()[5]\n",
    "        if front_right < 175 and front_left < 200 :\n",
    "            image = camera.capture()\n",
    "            predict = knn.predict(image)\n",
    "            \n",
    "            if predict == 'red' :\n",
    "                screen.draw_text_center(\"RED_LIGHT\")\n",
    "            \n",
    "            time.sleep(3)\n",
    "        \n",
    "        else:\n",
    "            screen.clear_display()\n",
    "            break\n",
    "\n",
    "finally:\n",
    "    camera.close()\n",
    "\n",
    "zumi.forward(40, 0.5)\n",
    "\n",
    "# 라인트레이싱\n",
    "LineTraceFunc()\n",
    "\n",
    "# 빨간색을 입력 시 정차 / 초록색을 입력 시 주행 재개\n",
    "try:\n",
    "    camera.start_camera()\n",
    "    knn.fit(\"hsv\")\n",
    "    \n",
    "    while True:\n",
    "        front_right = zumi.get_all_IR_data()[0]\n",
    "        front_left = zumi.get_all_IR_data()[5]\n",
    "        if front_right < 175 and front_left < 200 :\n",
    "            image = camera.capture()\n",
    "            predict = knn.predict(image)\n",
    "            if predict == 'green' :\n",
    "                screen.draw_text_center(\"GREEN_LIGHT\")\n",
    "                break\n",
    "        \n",
    "            else:\n",
    "                screen.draw_text_center(\"RED_LIGHT\")\n",
    "                \n",
    "                \n",
    "            time.sleep(3)\n",
    "\n",
    "finally:\n",
    "    camera.close()\n",
    "\n",
    "zumi.forward(40, 0.5)\n",
    "\n",
    "# 라인트레이싱\n",
    "LineTraceFunc()"
   ]
  },
  {
   "cell_type": "markdown",
   "metadata": {},
   "source": [
    "## Course C"
   ]
  },
  {
   "cell_type": "code",
   "execution_count": 9,
   "metadata": {},
   "outputs": [
    {
     "name": "stdout",
     "output_type": "stream",
     "text": [
      "message :  1+2\n",
      "Closing PiCamera\n",
      "done\n",
      "Linetrace Start\n",
      "Linetrace Stop\n"
     ]
    }
   ],
   "source": [
    "# QR Code 인식\n",
    "camera.start_camera()\n",
    "\n",
    "try:\n",
    "    while True:\n",
    "        image = camera.capture()\n",
    "        \n",
    "        qr_code = vision.find_QR_code(image)\n",
    "\n",
    "        print(\"message : \" , vision.get_QR_message(qr_code))\n",
    "        \n",
    "        if vision.get_QR_message(qr_code) != None :\n",
    "            ans = eval(vision.get_QR_message(qr_code))\n",
    "            break\n",
    "\n",
    "        camera.show_image(image)\n",
    "        camera.clear_output()\n",
    "finally:\n",
    "    camera.close()\n",
    "    print(\"done\")\n",
    "    \n",
    "# QR Code의 message 값에 따라 갈림길 선택\n",
    "zumi.control_motors(10, 40)\n",
    "time.sleep(0.7)\n",
    "zumi.stop()\n",
    "\n",
    "if ans % 2 == 0:\n",
    "    zumi.turn_left(90)\n",
    "    \n",
    "else:\n",
    "    zumi.turn_right(90)\n",
    "    \n",
    "# 라인트레이싱\n",
    "LineTraceFunc()\n",
    "\n",
    "# 도착지점에서 미션 수행 - smile, dance\n",
    "screen.happy()\n",
    "for i in range(5):\n",
    "    zumi.turn(360)"
   ]
  }
 ],
 "metadata": {
  "kernelspec": {
   "display_name": "Python 3",
   "language": "python",
   "name": "python3"
  },
  "language_info": {
   "codemirror_mode": {
    "name": "ipython",
    "version": 3
   },
   "file_extension": ".py",
   "mimetype": "text/x-python",
   "name": "python",
   "nbconvert_exporter": "python",
   "pygments_lexer": "ipython3",
   "version": "3.5.3"
  }
 },
 "nbformat": 4,
 "nbformat_minor": 2
}
